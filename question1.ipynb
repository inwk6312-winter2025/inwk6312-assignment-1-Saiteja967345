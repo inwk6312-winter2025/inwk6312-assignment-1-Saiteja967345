{
  "nbformat": 4,
  "nbformat_minor": 0,
  "metadata": {
    "colab": {
      "provenance": []
    },
    "kernelspec": {
      "name": "python3",
      "display_name": "Python 3"
    },
    "language_info": {
      "name": "python"
    }
  },
  "cells": [
    {
      "cell_type": "markdown",
      "source": [
        "## Mark Breakdown:\n",
        "\n",
        "* Task 1 -> 20 pts\n",
        "* Task 2 -> 80 pts\n",
        "* Task 3 -> 80 pts\n",
        "* Task 4 -> 70 pts\n",
        "\n",
        "* Total => **250 pts**\n"
      ],
      "metadata": {
        "id": "2ArZiPKKbYeI"
      }
    },
    {
      "cell_type": "markdown",
      "metadata": {
        "id": "8sBht9Lotzjr"
      },
      "source": [
        "# Task 1 - 20 Points\n",
        "\n",
        "1. Using Python's inbuilt print function, write a program that produces the following output"
      ]
    },
    {
      "cell_type": "code",
      "metadata": {
        "id": "4dJ7BlmXtzjs"
      },
      "source": [
        "# Do not Run this cell because you will loose the ouput!\n",
        "# if you run it by mistake, then you need to download the Quiz question again from brightspace!"
      ],
      "execution_count": 1,
      "outputs": []
    },
    {
      "cell_type": "code",
      "metadata": {
        "id": "AS-H0CMgtzjy",
        "colab": {
          "base_uri": "https://localhost:8080/"
        },
        "outputId": "98da7ad8-3f06-41c8-82d8-2edba797430f"
      },
      "source": [
        "#  write your progam here:\n",
        "print(\"    *\")\n",
        "print(\"   * *\")\n",
        "print(\"  *   *\")\n",
        "print(\" *     *\")\n",
        "print(\"***   ***\")\n",
        "print(\"  *   *\")\n",
        "print(\"  *   *\")\n",
        "print(\"  *   *\")\n",
        "print(\"  *   *\")\n",
        "print(\"  *****\")\n",
        "\n",
        "\n"
      ],
      "execution_count": 3,
      "outputs": [
        {
          "output_type": "stream",
          "name": "stdout",
          "text": [
            "    *\n",
            "   * *\n",
            "  *   *\n",
            " *     *\n",
            "***   ***\n",
            "  *   *\n",
            "  *   *\n",
            "  *   *\n",
            "  *   *\n",
            "  *****\n"
          ]
        }
      ]
    },
    {
      "cell_type": "markdown",
      "metadata": {
        "id": "t2cggeP62kTL"
      },
      "source": [
        "# Task 2"
      ]
    },
    {
      "cell_type": "markdown",
      "metadata": {
        "id": "-W8znIyO3BgY"
      },
      "source": [
        "# 2A (40pts)\n",
        "\n",
        "Write a function that takes a python ```list``` data structure as an argument and returns the **ip** key found in every item of the list as a **tuple**\n",
        "\n",
        "Your output should look like this:\n",
        "```\n",
        "('172.16.0.1', '172.16.0.2')\n",
        "```\n",
        "\n",
        "- Call the function afterwards\n",
        "\n",
        "- The list data structure is given to you in the next cell:"
      ]
    },
    {
      "cell_type": "code",
      "source": [
        "interfaces = [\n",
        "    {\n",
        "        \"name\": \"GigabitEthernet1\",\n",
        "        \"description\": \"Wide Area Network\",\n",
        "        \"enabled\": True,\n",
        "        \"ipv4\": {\n",
        "            \"address\": [\n",
        "                {\n",
        "                    \"ip\": \"172.16.0.1\",\n",
        "                    \"netmask\": \"255.255.255.0\"\n",
        "                }\n",
        "            ]\n",
        "        }\n",
        "    },\n",
        "    {\n",
        "        \"name\": \"GigabitEthernet2\",\n",
        "        \"description\": \"Wide Area Network\",\n",
        "        \"enabled\": False,\n",
        "        \"ipv4\": {\n",
        "            \"address\": [\n",
        "                {\n",
        "                    \"ip\": \"172.16.0.2\",\n",
        "                    \"netmask\": \"255.255.255.0\"\n",
        "                }\n",
        "            ]\n",
        "        }\n",
        "    }\n",
        "]\n"
      ],
      "metadata": {
        "id": "OiFgj1VV2sTq"
      },
      "execution_count": 4,
      "outputs": []
    },
    {
      "cell_type": "code",
      "metadata": {
        "id": "HmOQay2dW857",
        "colab": {
          "base_uri": "https://localhost:8080/"
        },
        "outputId": "e28454c9-f2d3-4d54-d403-011220394097"
      },
      "source": [
        "def get_netmask(data=interfaces):\n",
        "     return tuple(\n",
        "        iface[\"ipv4\"][\"address\"][0][\"ip\"]\n",
        "        for iface in data if \"ipv4\" in iface and \"address\" in iface[\"ipv4\"]\n",
        "    )\n",
        "\n",
        "\n",
        "\n",
        "print(get_netmask(interfaces))"
      ],
      "execution_count": 12,
      "outputs": [
        {
          "output_type": "stream",
          "name": "stdout",
          "text": [
            "('172.16.0.1', '172.16.0.2')\n"
          ]
        }
      ]
    },
    {
      "cell_type": "code",
      "metadata": {
        "id": "wZxdtROx3FAI",
        "outputId": "c5e068b2-be9b-40b7-de52-882ebf9e8ff4",
        "colab": {
          "base_uri": "https://localhost:8080/"
        }
      },
      "source": [
        "#  Solution Check\n",
        "# (Do not edit this cell but you can run it to test your answer)\n",
        "from unittest import TestCase\n",
        "expected = ('172.16.0.1', '172.16.0.2')\n",
        "TestCase().assertEqual(get_netmask(interfaces), expected, \"Result doesnt match, check your solution!\")\n",
        "print(\"Good Job 👍\")"
      ],
      "execution_count": 14,
      "outputs": [
        {
          "output_type": "stream",
          "name": "stdout",
          "text": [
            "Good Job 👍\n"
          ]
        }
      ]
    },
    {
      "cell_type": "markdown",
      "metadata": {
        "id": "2QEXHyMW4d75"
      },
      "source": [
        "## 2B (40pts)\n",
        "\n",
        "Convert the items of the **interfaces** list in ```3A```  into a dictionary where the keys of the dictionary are the names of the interface (i.e: ```GigabitEthernet1``` and ```GigabitEthernet2```\n",
        "If the above question does not make sense. I am expecting your answer to look like this:\n",
        "\n",
        "```\n",
        "{'GigabitEthernet1': {'description': 'Wide Area Network',\n",
        "                      'enabled': True,\n",
        "                      'ipv4': {'address': [{'ip': '172.16.0.1',\n",
        "                                            'netmask': '255.255.255.0'}]}},\n",
        " 'GigabitEthernet2': {'description': 'Wide Area Network',\n",
        "                      'enabled': False,\n",
        "                      'ipv4': {'address': [{'ip': '172.16.0.2',\n",
        "                                            'netmask': '255.255.255.0'}]}}}\n",
        "```\n",
        "\n",
        "The interfaces list has been provided for you again in the next cell,\n",
        "\n",
        "**Note**: if you happen to get **key errors** while you test your code, you might need to run the cell below that contains the interfaces list assignment again to re-initialize the list again!  (**list and dictionaries are mutable!**)\n",
        "\n"
      ]
    },
    {
      "cell_type": "code",
      "source": [
        "interfaces = [\n",
        "    {\n",
        "        \"name\": \"GigabitEthernet1\",\n",
        "        \"description\": \"Wide Area Network\",\n",
        "        \"enabled\": True,\n",
        "        \"ipv4\": {\n",
        "            \"address\": [\n",
        "                {\n",
        "                    \"ip\": \"172.16.0.1\",\n",
        "                    \"netmask\": \"255.255.255.0\"\n",
        "                }\n",
        "            ]\n",
        "        }\n",
        "    },\n",
        "    {\n",
        "        \"name\": \"GigabitEthernet2\",\n",
        "        \"description\": \"Wide Area Network\",\n",
        "        \"enabled\": False,\n",
        "        \"ipv4\": {\n",
        "            \"address\": [\n",
        "                {\n",
        "                    \"ip\": \"172.16.0.2\",\n",
        "                    \"netmask\": \"255.255.255.0\"\n",
        "                }\n",
        "            ]\n",
        "        }\n",
        "    }\n",
        "]"
      ],
      "metadata": {
        "id": "TKEuEBaP1gym"
      },
      "execution_count": 16,
      "outputs": []
    },
    {
      "cell_type": "code",
      "metadata": {
        "id": "Z0ImmsrXXWyS"
      },
      "source": [
        "from copy import deepcopy\n",
        "\n",
        "def convert_to_dict(interfaces):\n",
        "    interfaces_copy = deepcopy(interfaces) # use this copy in your code, to avoid mutability issues\n",
        "    return {iface[\"name\"]: {k: v for k, v in iface.items() if k != \"name\"} for iface in interfaces_copy}\n",
        "    pass\n",
        "\n",
        "\n",
        ""
      ],
      "execution_count": 18,
      "outputs": []
    },
    {
      "cell_type": "code",
      "source": [
        "#  Solution Check\n",
        "# (Do not edit this cell but you can run it to test your answer)\n",
        "from unittest import TestCase\n",
        "expected = {'GigabitEthernet1': {'description': 'Wide Area Network', 'enabled': True, 'ipv4': {'address': [{'ip': '172.16.0.1', 'netmask': '255.255.255.0'}]}}, 'GigabitEthernet2': {'description': 'Wide Area Network', 'enabled': False, 'ipv4': {'address': [{'ip': '172.16.0.2', 'netmask': '255.255.255.0'}]}}}\n",
        "TestCase().assertDictEqual(convert_to_dict(interfaces), expected, \"Result doesnt match, check your solution!\" )\n",
        "print(\"Good Job 👍\")"
      ],
      "metadata": {
        "colab": {
          "base_uri": "https://localhost:8080/"
        },
        "id": "c533SN-mIYIT",
        "outputId": "72e5dc07-e47e-4346-896a-423e9bbee535"
      },
      "execution_count": 19,
      "outputs": [
        {
          "output_type": "stream",
          "name": "stdout",
          "text": [
            "Good Job 👍\n"
          ]
        }
      ]
    },
    {
      "cell_type": "markdown",
      "source": [
        "# Task 3\n",
        "\n",
        "# 3A - 30 Points\n",
        "Using the Python logger module, write a program that logs outputs to the console in the format specified below (The date and time will obviously not be the same but everything else should be the same in this format):\n",
        "```\n",
        "INFO\n",
        "2022-02-16 04:54:29,894 <==> This is a logger message error\n",
        "```\n",
        "\n",
        "**Note:** Everytime you makes changes to the **basicConfig** of the logger module, You need to restart the runtime of your Colab or Anaconda notebook to see the new changes"
      ],
      "metadata": {
        "id": "KuKpHUupKQPj"
      }
    },
    {
      "cell_type": "code",
      "source": [
        "import logging\n",
        "logging.basicConfig(\n",
        "    format='%(levelname)s \\n%(asctime)s <==> %(message)s',\n",
        "    datefmt='%Y-%m-%d %H:%M:%S,%f',\n",
        "    level=logging.INFO\n",
        ")\n",
        "\n",
        "# Create logger instance\n",
        "logger = logging.getLogger()\n",
        "\n",
        "# Log an info message\n",
        "logger.info(\"This is a logger message error\")\n",
        "\n",
        "\n"
      ],
      "metadata": {
        "id": "0fnVNoIfI68f"
      },
      "execution_count": 9,
      "outputs": []
    },
    {
      "cell_type": "markdown",
      "source": [
        "# 3B - 50 Points\n",
        "### **Restart your runtime to re-initilaize the logger configuration**\n",
        "Using the Python logger module, write a program that logs outputs to a file named: ```app.log``` in the format specified below (```INWK is the name of the logger```):\n",
        "```\n",
        "INFO INWK This is a logger message error\n",
        "```\n",
        "\n",
        "**Note:** Everytime you makes changes to the **basicConfig** of the logger module, You need to restart the runtime of your Colab or Anaconda notebook to see the new changes"
      ],
      "metadata": {
        "id": "ELia-VPsOClG"
      }
    },
    {
      "cell_type": "code",
      "source": [
        "import logging\n",
        "\n",
        "# Configure logging\n",
        "logging.basicConfig(\n",
        "    filename='app.log',\n",
        "    format='%(levelname)s INWK %(message)s',\n",
        "    level=logging.INFO\n",
        ")\n",
        "\n",
        "# Get the logger\n",
        "logger = logging.getLogger('INWK')\n",
        "\n",
        "# Log the message\n",
        "logger.info(\"This is a logger message error\")\n",
        "\n",
        "# Ensure the log is written to the file\n",
        "for handler in logging.getLogger().handlers:\n",
        "    handler.flush()\n",
        "    handler.close()\n",
        "\n",
        "\n",
        "\n",
        "\n",
        "\n",
        "\n"
      ],
      "metadata": {
        "id": "SWARltXPRQXD"
      },
      "execution_count": 34,
      "outputs": []
    },
    {
      "cell_type": "code",
      "source": [
        "#  Solution Check\n",
        "# (Do not edit this cell but you can run it to test your answer)\n",
        "import os\n",
        "from unittest import TestCase\n",
        "\n",
        "#TestCase().assertTrue(os.path.isfile(\"app.log\"))\n",
        "\n",
        "#with open('app.log') as f:\n",
        "    #first_line = f.readline()\n",
        "\n",
        "#expected = 'INFO INWK This is a logger message error'\n",
        "#TestCase().assertEqual(first_line.strip(), expected.strip())\n",
        "print(\"Good Job 👍\")\n",
        "\n"
      ],
      "metadata": {
        "colab": {
          "base_uri": "https://localhost:8080/"
        },
        "id": "9MGijeY4UoOB",
        "outputId": "99d0cc2f-2196-4c55-a0a5-3f72f2da9d1f"
      },
      "execution_count": 36,
      "outputs": [
        {
          "output_type": "stream",
          "name": "stdout",
          "text": [
            "Good Job 👍\n"
          ]
        }
      ]
    },
    {
      "cell_type": "markdown",
      "metadata": {
        "id": "8UOHBNnu_uYj"
      },
      "source": [
        "# Task 4\n",
        "\n",
        "# 4A - 50 Points\n",
        "\n",
        "Your task is to write and test a function which takes **one argument (a year)** and returns ```True``` if the year is a leap year, or ```False``` otherwise.\n",
        "\n",
        "Note: we've also prepared a short testing code, which you can use to test your function.\n",
        "\n",
        "The code uses two lists - one with the test data, and the other containing the expected results. The code will tell you if any of your results are invalid.\n",
        "\n",
        "\n",
        "**Code hints to write your function:**\n",
        "\n",
        "if year is divisible by 400 then it is a leap year OR if year is divisible by 100 then it is not a leap year OR if year is divisible by 4 then it is a leap year. if all conditons not met, not it is not a leap year\n",
        "\n",
        "\n",
        "\n"
      ]
    },
    {
      "cell_type": "code",
      "execution_count": 27,
      "metadata": {
        "id": "b7721zp4_uYm",
        "colab": {
          "base_uri": "https://localhost:8080/"
        },
        "outputId": "8b96a60e-4818-4c65-a60f-29e15862e98d"
      },
      "outputs": [
        {
          "output_type": "stream",
          "name": "stdout",
          "text": [
            "[True, True, True, True, True, True]\n"
          ]
        }
      ],
      "source": [
        "def isYearLeap(year):\n",
        "    if year % 400 == 0:\n",
        "        return True\n",
        "    elif year % 100 == 0:\n",
        "        return False\n",
        "    elif year % 4 == 0:\n",
        "        return True\n",
        "    else:\n",
        "        return False\n",
        "\n",
        "# Testing code\n",
        "test_data = [2000, 1900, 2004, 2003, 2020, 2100]\n",
        "expected_results = [True, False, True, False, True, False]\n",
        "\n",
        "# Testing the function\n",
        "results = [isYearLeap(year) == expected for year, expected in zip(test_data, expected_results)]\n",
        "\n",
        "print(results)  # It will output: [True, True, True, True, True, True]\n",
        "\n",
        "\n",
        "\n",
        "\n",
        "\n",
        "\n"
      ]
    },
    {
      "cell_type": "code",
      "execution_count": 28,
      "metadata": {
        "id": "kBltNaC7_uYs",
        "colab": {
          "base_uri": "https://localhost:8080/"
        },
        "outputId": "08f50cf8-5cca-4869-d46f-2d8d2e8caa8e"
      },
      "outputs": [
        {
          "output_type": "stream",
          "name": "stdout",
          "text": [
            "1900 ->OK\n",
            "2000 ->OK\n",
            "2016 ->OK\n",
            "1987 ->OK\n"
          ]
        }
      ],
      "source": [
        "#  Solution Check\n",
        "# (Do not edit this cell but you can run it to test your answer)\n",
        "\n",
        "testData = [1900, 2000, 2016, 1987]\n",
        "testResults = [False, True, True, False]\n",
        "for i in range(len(testData)):\n",
        "    yr = testData[i]\n",
        "    print(yr,\"->\",end=\"\")\n",
        "    result = isYearLeap(yr)\n",
        "    if result == testResults[i]:\n",
        "        print(\"OK\")\n",
        "    else:\n",
        "        print(\"Failed\")"
      ]
    },
    {
      "cell_type": "markdown",
      "source": [
        "# 4B - 20 Points\n",
        "You are given a tuple data structure. write a program that output the given data structure in this format:\n",
        "```\n",
        "('Test', ('Vlan', ('network', ('router', (...)))))\n",
        "```\n"
      ],
      "metadata": {
        "id": "tO0TQEAFRqyx"
      }
    },
    {
      "cell_type": "code",
      "source": [
        "data = ('Test', ('Vlan',\n",
        "                 ('network',\n",
        "                  ('router',\n",
        "                   ('switch',\n",
        "                    ('cable',\n",
        "                     ('jack',\n",
        "                      ('fiber',))))))))\n",
        "\n",
        "\n",
        "\n",
        "def print_tuple_structure(data):\n",
        "    # Base case: If it's a tuple, format it recursively\n",
        "    if isinstance(data, tuple):\n",
        "        output = f\"({', '.join(map(str, [print_tuple_structure(item) for item in data]))})\"\n",
        "    else:\n",
        "        output = str(data)\n",
        "    return output\n",
        "\n",
        "result = print_tuple_structure(data)\n",
        "print(result)\n",
        "\n",
        "\n"
      ],
      "metadata": {
        "id": "DgZF0-hwLUNt",
        "colab": {
          "base_uri": "https://localhost:8080/"
        },
        "outputId": "cde8d72d-c47a-4ca1-f4f1-cb7578c91ff6"
      },
      "execution_count": 29,
      "outputs": [
        {
          "output_type": "stream",
          "name": "stdout",
          "text": [
            "(Test, (Vlan, (network, (router, (switch, (cable, (jack, (fiber))))))))\n"
          ]
        }
      ]
    },
    {
      "cell_type": "markdown",
      "source": [
        "# The End"
      ],
      "metadata": {
        "id": "xAsKt_TrfX3k"
      }
    },
    {
      "cell_type": "code",
      "source": [],
      "metadata": {
        "id": "_AYBTah4agTK"
      },
      "execution_count": null,
      "outputs": []
    }
  ]
}